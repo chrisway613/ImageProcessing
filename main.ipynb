{
 "cells": [
  {
   "cell_type": "markdown",
   "metadata": {},
   "source": [
    "Notebook Style Command:<br>\n",
    "&emsp;**_jt -t gruvboxd -f source -nf sourcesans -nfs 8 -ofs 11 -cursc p -T -N -kl_**"
   ]
  },
  {
   "cell_type": "code",
   "execution_count": 1,
   "metadata": {},
   "outputs": [],
   "source": [
    "import cv2\n",
    "import math\n",
    "import random\n",
    "import numpy as np\n",
    "\n",
    "from copy import copy"
   ]
  },
  {
   "cell_type": "markdown",
   "metadata": {
    "cell_style": "split"
   },
   "source": [
    "# Image Color Model"
   ]
  },
  {
   "cell_type": "code",
   "execution_count": 13,
   "metadata": {},
   "outputs": [],
   "source": [
    "img_path = 'Pictures/myself/cwcai.jpg'\n",
    "img_size = (500, 600)\n",
    "img = cv2.imread(img_path)\n",
    "img = cv2.resize(img, img_size)\n",
    "cv2.imshow(\"Resize Image\", img)\n",
    "\n",
    "cv2.waitKey(0)\n",
    "cv2.destroyAllWindows()"
   ]
  },
  {
   "cell_type": "markdown",
   "metadata": {
    "cell_style": "split"
   },
   "source": [
    "## Grayscale"
   ]
  },
  {
   "cell_type": "markdown",
   "metadata": {},
   "source": [
    "cv2 internal method"
   ]
  },
  {
   "cell_type": "code",
   "execution_count": 14,
   "metadata": {},
   "outputs": [],
   "source": [
    "img_gray = cv2.cvtColor(img, cv2.COLOR_BGR2GRAY)\n",
    "cv2.imshow(\"Gray Scale Image\", img_gray)\n",
    "\n",
    "cv2.waitKey(0)\n",
    "cv2.destroyAllWindows()"
   ]
  },
  {
   "cell_type": "markdown",
   "metadata": {},
   "source": [
    "custom method"
   ]
  },
  {
   "cell_type": "code",
   "execution_count": null,
   "metadata": {},
   "outputs": [],
   "source": [
    "def gray_scale(src_img):\n",
    "    dst_img = np.zeros((src_img.shape[0], src_img.shape[1]), dtype=np.uint8)\n",
    "    for row in range(src_img.shape[0]):\n",
    "        for col in range(src_img.shape[1]):\n",
    "            dst_img[row, col] = .144 * src_img[row][col][0] + \\\n",
    "              .587 * src_img[row][col][1] + .299 * src_img[row][col][2]\n",
    "    \n",
    "    return dst_img"
   ]
  },
  {
   "cell_type": "code",
   "execution_count": 6,
   "metadata": {},
   "outputs": [],
   "source": [
    "img_gray = gray_scale(img)\n",
    "cv2.imshow(\"Gray Scale Image\", img_gray)\n",
    "\n",
    "cv2.waitKey(0)\n",
    "cv2.destroyAllWindows()"
   ]
  },
  {
   "cell_type": "markdown",
   "metadata": {
    "cell_style": "split"
   },
   "source": [
    "## Binary Image"
   ]
  },
  {
   "cell_type": "markdown",
   "metadata": {},
   "source": [
    "cv2 internal method"
   ]
  },
  {
   "cell_type": "code",
   "execution_count": 15,
   "metadata": {},
   "outputs": [
    {
     "name": "stdout",
     "output_type": "stream",
     "text": [
      "threshold value: 126.0\n"
     ]
    }
   ],
   "source": [
    "img_gray = cv2.cvtColor(img, cv2.COLOR_BGR2GRAY)\n",
    "ret, img_binary = cv2.threshold(\n",
    "    img_gray, thresh=0, maxval=255, type=cv2.THRESH_BINARY | cv2.THRESH_TRIANGLE\n",
    ")\n",
    "print(\"threshold value: {}\".format(ret))\n",
    "cv2.imshow(\"Binary Image\", img_binary)\n",
    "\n",
    "cv2.waitKey(0)\n",
    "cv2.destroyAllWindows()"
   ]
  },
  {
   "cell_type": "markdown",
   "metadata": {},
   "source": [
    "custom method"
   ]
  },
  {
   "cell_type": "code",
   "execution_count": null,
   "metadata": {},
   "outputs": [],
   "source": [
    "def img_threshold_binary(src_img, thresh=126.0):\n",
    "    dst_img = copy(src_img)\n",
    "    for row in range(src_img.shape[0]):\n",
    "        for col in range(src_img.shape[1]):\n",
    "            dst_img[row][col] = 0 if src_img[row][col] <= thresh else 255\n",
    "    \n",
    "    return dst_img"
   ]
  },
  {
   "cell_type": "code",
   "execution_count": 4,
   "metadata": {},
   "outputs": [
    {
     "name": "stdout",
     "output_type": "stream",
     "text": [
      "mean of pixel value:144.90689333333333\n"
     ]
    }
   ],
   "source": [
    "img_gray = cv2.cvtColor(img, cv2.COLOR_BGR2GRAY)\n",
    "img_binary = img_threshold_binary(img_gray)\n",
    "cv2.imshow(\"Binary Image(thresh=126.0)\", img_binary)\n",
    "\n",
    "# set thresh value to mean of pixel value\n",
    "h, w = img_gray.shape[:2]\n",
    "m = np.reshape(img_gray, [1, h * w])\n",
    "mean = m.sum()/ (h * w)\n",
    "print(\"mean of pixel value:{}\".format(mean))\n",
    "img_binary = img_threshold_binary(img_gray, thresh=mean)\n",
    "cv2.imshow(\"Binary Image(thresh={})\".format(mean), img_binary)\n",
    "\n",
    "cv2.waitKey(0)\n",
    "cv2.destroyAllWindows()"
   ]
  },
  {
   "cell_type": "markdown",
   "metadata": {
    "cell_style": "split"
   },
   "source": [
    "# Image Noise"
   ]
  },
  {
   "cell_type": "code",
   "execution_count": 70,
   "metadata": {},
   "outputs": [],
   "source": [
    "def clamp(pixel):\n",
    "    if pixel > 255:\n",
    "        return 255\n",
    "    elif pixel < 0:\n",
    "        return 0\n",
    "    else:\n",
    "        return pixel"
   ]
  },
  {
   "cell_type": "markdown",
   "metadata": {
    "cell_style": "split"
   },
   "source": [
    "## Gaussian Noise"
   ]
  },
  {
   "cell_type": "code",
   "execution_count": 3,
   "metadata": {},
   "outputs": [],
   "source": [
    "img_path = 'Pictures/myself/cwcai.jpg'\n",
    "img_size = (500, 500)\n",
    "img = cv2.imread(img_path)\n",
    "img = cv2.resize(img, img_size)\n",
    "cv2.imshow(\"Resize Image\", img)\n",
    "\n",
    "cv2.waitKey(0)\n",
    "cv2.destroyAllWindows()"
   ]
  },
  {
   "cell_type": "markdown",
   "metadata": {},
   "source": [
    "cv2 internal method"
   ]
  },
  {
   "cell_type": "code",
   "execution_count": 4,
   "metadata": {},
   "outputs": [],
   "source": [
    "img_gaussian = cv2.GaussianBlur(img, (7, 7), 0)\n",
    "cv2.imshow(\"Gaussian Blur Image\", img_gaussian)\n",
    "\n",
    "cv2.waitKey(0)\n",
    "cv2.destroyAllWindows()"
   ]
  },
  {
   "cell_type": "markdown",
   "metadata": {
    "slideshow": {
     "slide_type": "-"
    }
   },
   "source": [
    "custom method"
   ]
  },
  {
   "cell_type": "code",
   "execution_count": 68,
   "metadata": {},
   "outputs": [],
   "source": [
    "def gaussian_noise(src_img, miu=0.0, sig=5.0):\n",
    "    dst_img = copy(src_img)\n",
    "    for row in range(dst_img.shape[0]):\n",
    "        for col in range(dst_img.shape[1]):\n",
    "            noise = np.random.normal(miu, sig, dst_img.shape[2])\n",
    "            for i, (p, n) in enumerate(zip(dst_img[row, col], noise)):\n",
    "                dst_img[row, col, i] = clamp(p + n)\n",
    "    \n",
    "    return dst_img"
   ]
  },
  {
   "cell_type": "code",
   "execution_count": null,
   "metadata": {},
   "outputs": [],
   "source": [
    "img_gaussian = gaussian_noise(img)\n",
    "cv2.imshow(\"Gaussian Noise Image(miu=0.0, sig=5.0)\", img_gaussian)\n",
    "\n",
    "img_gaussian = gaussian_noise(img, sig=25.0)\n",
    "cv2.imshow(\"Gaussian Noise Image(miu=0.0, sig=25.0)\", img_gaussian)\n",
    "\n",
    "img_gaussian = gaussian_noise(img, miu=10.0, sig=25.0)\n",
    "cv2.imshow(\"Gaussian Noise Image(miu=10.0, sig=25.0)\", img_gaussian)\n",
    "\n",
    "cv2.waitKey(0)\n",
    "cv2.destroyAllWindows()"
   ]
  },
  {
   "cell_type": "markdown",
   "metadata": {
    "cell_style": "split"
   },
   "source": [
    "## Pepper Salt Noise"
   ]
  },
  {
   "cell_type": "markdown",
   "metadata": {},
   "source": [
    "custom method"
   ]
  },
  {
   "cell_type": "code",
   "execution_count": 74,
   "metadata": {},
   "outputs": [],
   "source": [
    "def pepper_salt_noise(src_img, snr=.5):\n",
    "    dst_img = copy(src_img)\n",
    "    noise_num = int(dst_img.shape[0] * dst_img.shape[1] * (1 - snr))\n",
    "    \n",
    "    for i in range(noise_num):\n",
    "        x = random.randint(0, dst_img.shape[0] - 1)\n",
    "        y = random.randint(0, dst_img.shape[1] - 1)\n",
    "        dst_img[x, y] = 255 if random.randint(0, 1) else 0\n",
    "    \n",
    "    return dst_img"
   ]
  },
  {
   "cell_type": "code",
   "execution_count": 75,
   "metadata": {},
   "outputs": [],
   "source": [
    "img_pepper_salt = pepper_salt_noise(img)\n",
    "cv2.imshow(\"Pepper Salt Noise Image(snr=0.5)\", img_pepper_salt)\n",
    "\n",
    "img_pepper_salt = pepper_salt_noise(img, snr=.3)\n",
    "cv2.imshow(\"Pepper Salt Noise Image(snr=0.3)\", img_pepper_salt)\n",
    "\n",
    "img_pepper_salt = pepper_salt_noise(img, snr=.9)\n",
    "cv2.imshow(\"Pepper Salt Noise Image(snr=0.9)\", img_pepper_salt)\n",
    "\n",
    "cv2.waitKey(0)\n",
    "cv2.destroyAllWindows()"
   ]
  },
  {
   "cell_type": "markdown",
   "metadata": {
    "cell_style": "split"
   },
   "source": [
    "# Image Filters"
   ]
  },
  {
   "cell_type": "code",
   "execution_count": 2,
   "metadata": {},
   "outputs": [],
   "source": [
    "img_path = 'Pictures/myself/Amiable.jpg'\n",
    "img_size = (520, 480)\n",
    "img = cv2.imread(img_path)\n",
    "img = cv2.resize(img, img_size)\n",
    "cv2.imshow(\"Resize Image\", img)\n",
    "\n",
    "cv2.waitKey(0)\n",
    "cv2.destroyAllWindows()"
   ]
  },
  {
   "cell_type": "markdown",
   "metadata": {
    "cell_style": "split"
   },
   "source": [
    "## Mean Filter"
   ]
  },
  {
   "cell_type": "markdown",
   "metadata": {},
   "source": [
    "cv2 internal method"
   ]
  },
  {
   "cell_type": "code",
   "execution_count": 5,
   "metadata": {},
   "outputs": [],
   "source": [
    "img_pepper_salt = pepper_salt_nosie(img, snr=.9)\n",
    "cv2.imshow(\"Pepper Salt Blur Image(snr=0.9)\", img_pepper_salt)\n",
    "\n",
    "img_mean_filtered = cv2.blur(img_pepper_salt, ksize=(2, 2))\n",
    "cv2.imshow(\"cv2.blur Image\", img_mean_filtered)\n",
    "\n",
    "cv2.waitKey(0)\n",
    "cv2.destroyAllWindows()"
   ]
  },
  {
   "cell_type": "markdown",
   "metadata": {},
   "source": [
    "custom method"
   ]
  },
  {
   "cell_type": "code",
   "execution_count": 10,
   "metadata": {},
   "outputs": [],
   "source": [
    "def mean_filter(src_img, ksize=(3, 3)):\n",
    "    h, w, c = src_img.shape\n",
    "    x, y = ksize\n",
    "    kernel = np.ones(ksize)\n",
    "    dst_img = np.zeros((h-x+1, w-y+1, c), dtype=np.uint8)\n",
    "    \n",
    "    for i in range(dst_img.shape[0]):\n",
    "        for j in range(dst_img.shape[1]):\n",
    "            for k in range(c):\n",
    "                dst_img[i, j, k] = np.sum(src_img[i:i+x, j:j+y, k] * kernel) / (x * y)\n",
    "    \n",
    "    return dst_img"
   ]
  },
  {
   "cell_type": "code",
   "execution_count": 11,
   "metadata": {},
   "outputs": [],
   "source": [
    "img_mean_filtered = mean_filter(img_pepper_salt, ksize=(2, 2))\n",
    "cv2.imshow(\"Mean Filtered Image\", img_mean_filtered)\n",
    "\n",
    "cv2.waitKey(0)\n",
    "cv2.destroyAllWindows()"
   ]
  },
  {
   "cell_type": "markdown",
   "metadata": {
    "cell_style": "split"
   },
   "source": [
    "## Median Filter"
   ]
  },
  {
   "cell_type": "markdown",
   "metadata": {},
   "source": [
    "cv2 internal method"
   ]
  },
  {
   "cell_type": "code",
   "execution_count": 6,
   "metadata": {},
   "outputs": [],
   "source": [
    "img_median = cv2.medianBlur(img_pepper_salt, ksize=3)\n",
    "cv2.imshow(\"Median Filtered Image\", img_median)\n",
    "\n",
    "cv2.waitKey(0)\n",
    "cv2.destroyAllWindows()"
   ]
  },
  {
   "cell_type": "markdown",
   "metadata": {},
   "source": [
    "custom method"
   ]
  },
  {
   "cell_type": "code",
   "execution_count": 12,
   "metadata": {},
   "outputs": [],
   "source": [
    "def median_blur(src_img, ksize=(3, 3)):\n",
    "    h, w, c = src_img.shape\n",
    "    x, y = ksize\n",
    "    dst_img = np.zeros((h-x+1, w-y+1, c), dtype=np.uint8)\n",
    "    \n",
    "    for i in range(dst_img.shape[0]):\n",
    "        for j in range(dst_img.shape[1]):\n",
    "            for k in range(c):\n",
    "                dst_img[i, j, k] = np.median(src_img[i:i+x, j:j+y, k])\n",
    "    \n",
    "    return dst_img"
   ]
  },
  {
   "cell_type": "code",
   "execution_count": 14,
   "metadata": {},
   "outputs": [],
   "source": [
    "img_median = median_blur(img_pepper_salt)\n",
    "cv2.imshow(\"Median Filtered Image(ksize=(3, 3))\", img_median)\n",
    "\n",
    "img_median = median_blur(img_pepper_salt, ksize=(5, 5))\n",
    "cv2.imshow(\"Median Filtered Image(ksize=(5, 5))\", img_median)\n",
    "\n",
    "cv2.waitKey(0)\n",
    "cv2.destroyAllWindows()"
   ]
  },
  {
   "cell_type": "markdown",
   "metadata": {
    "cell_style": "split"
   },
   "source": [
    "## Gaussian Filter"
   ]
  },
  {
   "cell_type": "markdown",
   "metadata": {},
   "source": [
    "cv2 internal method"
   ]
  },
  {
   "cell_type": "code",
   "execution_count": 79,
   "metadata": {},
   "outputs": [],
   "source": [
    "img_gaussian = cv2.GaussianBlur(img, ksize=(3, 5), sigmaX=1.0)\n",
    "cv2.imshow(\"Gaussian Filtered Image(ksize=(3, 5), sigmaX=0.0)\", img_gaussian)\n",
    "\n",
    "cv2.waitKey(0)\n",
    "cv2.destroyAllWindows()"
   ]
  },
  {
   "cell_type": "code",
   "execution_count": 80,
   "metadata": {},
   "outputs": [],
   "source": [
    "def gaussian_blur(src_img, ksize=(3, 3), sigma=1.0):\n",
    "    assert ksize[0] > 0 and ksize[0] % 2 and ksize[1] > 0 and ksize[1] % 2\n",
    "    \n",
    "    def gaussian_kernel(kernel_size=(3, 3), sig=1.0):\n",
    "        assert ksize[0] > 0 and ksize[0] % 2 and ksize[1] > 0 and ksize[1] % 2\n",
    "        \n",
    "        kernel = np.zeros(kernel_size, dtype=np.float32)\n",
    "        x, y = kernel_size\n",
    "        for i in range(kernel.shape[0]):\n",
    "            for j in range(kernel.shape[1]):\n",
    "                exp = (math.pow(i-int(x/2), 2) + math.pow(j-int(y/2), 2)) / 2*math.pow(sig, 2)\n",
    "                kernel[i, j] = math.exp(-exp)\n",
    "        \n",
    "        kernel *= 1.0 / (math.sqrt(2*math.pi) * math.pow(sig, 2))\n",
    "        # normalization\n",
    "        kernel_sum = np.sum(kernel)\n",
    "        kernel /= kernel_sum\n",
    "        \n",
    "        return kernel\n",
    "    \n",
    "    h, w, c = src_img.shape\n",
    "    x, y = ksize\n",
    "    dst_img = np.zeros((h-x+1, w-y+1, c), dtype=np.uint8)\n",
    "    kernel = gaussian_kernel(ksize, sigma)\n",
    "    print(\"Gaussian Kernel Matrix:\\n\", kernel)\n",
    "    \n",
    "    for i in range(dst_img.shape[0]):\n",
    "        for j in range(dst_img.shape[1]):\n",
    "            for k in range(c):\n",
    "                dst_img[i, j, k] = np.sum(src_img[i:i+x, j:j+y, k] * kernel)\n",
    "    \n",
    "    return dst_img"
   ]
  },
  {
   "cell_type": "code",
   "execution_count": 81,
   "metadata": {},
   "outputs": [
    {
     "name": "stdout",
     "output_type": "stream",
     "text": [
      "Gaussian Kernel Matrix:\n",
      " [[0.07511361 0.12384141 0.07511361]\n",
      " [0.12384141 0.20417997 0.12384141]\n",
      " [0.07511361 0.12384141 0.07511361]]\n"
     ]
    }
   ],
   "source": [
    "cv2.imshow(\"Image\", img)\n",
    "\n",
    "img_gaussian_noise = gaussian_noise(img, miu=3.0, sig=5.0)\n",
    "cv2.imshow(\"Gaussian Noise Image(miu=3.0, sig=5.0)\", img_gaussian)\n",
    "\n",
    "img_gaussian = gaussian_blur(img_gaussian_noise)\n",
    "cv2.imshow(\"Gaussian Filtered Image(ksize=(3, 3), sigma=1.0)\", img_gaussian)\n",
    "\n",
    "cv2.waitKey(0)\n",
    "cv2.destroyAllWindows()"
   ]
  },
  {
   "cell_type": "markdown",
   "metadata": {
    "cell_style": "split"
   },
   "source": [
    "# Image Translation"
   ]
  },
  {
   "cell_type": "markdown",
   "metadata": {},
   "source": [
    "cv2 internal method"
   ]
  },
  {
   "cell_type": "code",
   "execution_count": 12,
   "metadata": {},
   "outputs": [],
   "source": [
    "rows, cols = img.shape[:2]\n",
    "delta_x, delta_y = (60, -50)\n",
    "M = np.float32([[1, 0, delta_x], [0, 1, delta_y]])\n",
    "img_trans = cv2.warpAffine(img, M, (cols, rows))\n",
    "cv2.imshow(\"Translation Image\", img_trans)\n",
    "\n",
    "cv2.waitKey(0)\n",
    "cv2.destroyAllWindows()"
   ]
  },
  {
   "cell_type": "markdown",
   "metadata": {},
   "source": [
    "custom method"
   ]
  },
  {
   "cell_type": "code",
   "execution_count": 54,
   "metadata": {},
   "outputs": [],
   "source": [
    "def translation(src_img, delta_y, delta_x, dsize):\n",
    "    rows, cols = dsize\n",
    "    M = np.float32([[1, 0, -delta_x], [0, 1, -delta_y]])\n",
    "    dst_img = np.zeros((dsize[0], dsize[1], src_img.shape[2]), dtype=np.uint8)\n",
    "    \n",
    "    for i in range(rows):\n",
    "        for j in range(cols):\n",
    "            src_pos = np.array([i, j, 1])\n",
    "            x, y = np.dot(M, src_pos)\n",
    "            x = int(x)\n",
    "            y = int(y)\n",
    "            \n",
    "            if x in range(rows) and y in range(cols):\n",
    "                dst_img[i][j] = src_img[x][y]\n",
    "            else:\n",
    "                # black color padding\n",
    "                dst_img[i][j] = 0\n",
    "    \n",
    "    return dst_img"
   ]
  },
  {
   "cell_type": "code",
   "execution_count": 55,
   "metadata": {},
   "outputs": [],
   "source": [
    "cv2.imshow(\"Image\", img)\n",
    "\n",
    "dsize = img.shape[:2]\n",
    "img_trans = translation(img, delta_y=-100, delta_x=-50, dsize=dsize)\n",
    "cv2.imshow(\"Translation Image\", img_trans)\n",
    "\n",
    "cv2.waitKey(0)\n",
    "cv2.destroyAllWindows()"
   ]
  },
  {
   "cell_type": "markdown",
   "metadata": {
    "cell_style": "split"
   },
   "source": [
    "# Image Rotation"
   ]
  },
  {
   "cell_type": "markdown",
   "metadata": {},
   "source": [
    "cv2 internal method"
   ]
  },
  {
   "cell_type": "code",
   "execution_count": 127,
   "metadata": {},
   "outputs": [],
   "source": [
    "cv2.imshow(\"Image\", img)\n",
    "\n",
    "h, w, c = img.shape\n",
    "matrix_rotate = cv2.getRotationMatrix2D(center=(h/2, w/2), angle=45, scale=.7)\n",
    "img_rotate = cv2.warpAffine(img, matrix_rotate, (h, w))\n",
    "cv2.imshow(\"Image Rotation\", img_rotate)\n",
    "\n",
    "cv2.waitKey(0)\n",
    "cv2.destroyAllWindows()"
   ]
  },
  {
   "cell_type": "markdown",
   "metadata": {},
   "source": [
    "custom method"
   ]
  },
  {
   "cell_type": "code",
   "execution_count": 5,
   "metadata": {},
   "outputs": [],
   "source": [
    "def rotation(src_img, angel):\n",
    "    \"\"\"\n",
    "    angel > 0: anticlockwise; angel < 0: clockwise.\n",
    "    \"\"\"\n",
    "    angel = -angel / 180 * math.pi\n",
    "    h, w, c = src_img.shape\n",
    "    dst_img = np.zeros((h, w, c), dtype=np.uint8)\n",
    "    \n",
    "    # x = x0 * cos(beta) + y0 * sin(beta)\n",
    "    # y = x0 * -sin(beta) + yo * cos(beta)\n",
    "    # where beta is the angle between (x, y) & (x0, y0)\n",
    "    \n",
    "    rotate_matrix = np.array([\n",
    "        [math.cos(angel), math.sin(angel)],\n",
    "        [-math.sin(angel), math.cos(angel)]\n",
    "    ])\n",
    "    \n",
    "    rotate_center_first = np.array([\n",
    "        [1, 0, -.5*h],\n",
    "        [0, -1, .5*w]\n",
    "    ])\n",
    "    \n",
    "    rotate_center_last = np.array([\n",
    "        [1, 0, .5*h],\n",
    "        [0, -1, .5*w]\n",
    "    ])\n",
    "    \n",
    "    for i in range(h):\n",
    "        for j in range(w):\n",
    "            src_coordinate = np.array([i, j, 1])\n",
    "            matrix_rotate_first = np.dot(rotate_center_first, src_coordinate)\n",
    "            x, y = np.dot(rotate_matrix, matrix_rotate_first)\n",
    "            matrix_rotate_med = np.array([x, y, 1])\n",
    "            x, y = np.dot(rotate_center_last, matrix_rotate_med)\n",
    "            x = int(x)\n",
    "            y = int(y)\n",
    "            \n",
    "            if x in range(h) and y in range(w):\n",
    "                dst_img[i][j] = src_img[x][y]\n",
    "\n",
    "    return dst_img"
   ]
  },
  {
   "cell_type": "code",
   "execution_count": 218,
   "metadata": {},
   "outputs": [],
   "source": [
    "img_rotate = rotation(img, angel=45)\n",
    "cv2.imshow(\"Image Rotation 45\", img_rotate)\n",
    "\n",
    "cv2.waitKey(0)\n",
    "cv2.destroyAllWindows()"
   ]
  },
  {
   "cell_type": "markdown",
   "metadata": {
    "cell_style": "split"
   },
   "source": [
    "# Image Scaling"
   ]
  },
  {
   "cell_type": "markdown",
   "metadata": {},
   "source": [
    "cv2 internal method"
   ]
  },
  {
   "cell_type": "code",
   "execution_count": 212,
   "metadata": {},
   "outputs": [
    {
     "name": "stdout",
     "output_type": "stream",
     "text": [
      "size of resize: (260, 240)\n"
     ]
    }
   ],
   "source": [
    "img_resize = cv2.resize(img, dsize=(img.shape[0] // 2, img.shape[1] // 2))\n",
    "cv2.imshow(\"Image Resize\", img_resize)\n",
    "print(\"size of resize:\", img_resize.shape[:2])\n",
    "\n",
    "cv2.waitKey(0)\n",
    "cv2.destroyAllWindows()"
   ]
  },
  {
   "cell_type": "markdown",
   "metadata": {},
   "source": [
    "custom method"
   ]
  },
  {
   "cell_type": "code",
   "execution_count": 213,
   "metadata": {},
   "outputs": [],
   "source": [
    "def resize(src_img, scale=1.0):\n",
    "    \"\"\"\n",
    "    >1: amplification; <1: shrink.\n",
    "    \"\"\"\n",
    "    h, w, c = src_img.shape\n",
    "    dst_img = np.zeros((int(h*scale), int(w*scale), c), dtype=np.uint8)\n",
    "    resize_matrix = np.array([[1/scale, 0], [0, 1/scale]])\n",
    "    \n",
    "    for i in range(dst_img.shape[0]):\n",
    "        for j in range(dst_img.shape[1]):\n",
    "            src_pos = np.array([i, j])\n",
    "            x, y = np.dot(resize_matrix, src_pos)\n",
    "            x = int(x)\n",
    "            y = int(y)\n",
    "            \n",
    "            if x in range(h) and y in range(w):\n",
    "                dst_img[i, j] = src_img[x, y]\n",
    "    \n",
    "    return dst_img"
   ]
  },
  {
   "cell_type": "code",
   "execution_count": 216,
   "metadata": {},
   "outputs": [
    {
     "name": "stdout",
     "output_type": "stream",
     "text": [
      "size of resize: (336, 364)\n"
     ]
    }
   ],
   "source": [
    "img_resize = resize(img, scale=.7)\n",
    "cv2.imshow(\"Image Resize\", img_resize)\n",
    "print(\"size of resize:\", img_resize.shape[:2])\n",
    "\n",
    "cv2.waitKey(0)\n",
    "cv2.destroyAllWindows()"
   ]
  },
  {
   "cell_type": "markdown",
   "metadata": {
    "cell_style": "split"
   },
   "source": [
    "# Image Filipping"
   ]
  },
  {
   "cell_type": "code",
   "execution_count": 2,
   "metadata": {},
   "outputs": [],
   "source": [
    "img_path = 'Pictures/myself/Amiable.jpg'\n",
    "img_size = (520, 480)\n",
    "img = cv2.imread(img_path)\n",
    "img = cv2.resize(img, img_size)\n",
    "cv2.imshow(\"Resize Image\", img)\n",
    "\n",
    "cv2.waitKey(0)\n",
    "cv2.destroyAllWindows()"
   ]
  },
  {
   "cell_type": "markdown",
   "metadata": {
    "cell_style": "split"
   },
   "source": [
    "## Horizontal"
   ]
  },
  {
   "cell_type": "code",
   "execution_count": 6,
   "metadata": {},
   "outputs": [],
   "source": [
    "def flip_hor(src_img):\n",
    "    h, w, c = src_img.shape\n",
    "    dst_img = copy(src_img)\n",
    "    matrix_flip = np.array([\n",
    "        [1, 0, 0],\n",
    "        [0, -1, w-1]\n",
    "    ])\n",
    "    \n",
    "    for i in range(h):\n",
    "        for j in range(w):\n",
    "            src_pos = np.array([i, j, 1])\n",
    "            x, y = np.dot(matrix_flip, src_pos)\n",
    "            dst_img[i][j] = src_img[x][y]\n",
    "    \n",
    "    return dst_img"
   ]
  },
  {
   "cell_type": "code",
   "execution_count": 8,
   "metadata": {},
   "outputs": [],
   "source": [
    "cv2.imshow(\"Image\", img)\n",
    "\n",
    "img_flip_hor = flip_hor(img)\n",
    "cv2.imshow(\"Flip Horizontal Image\", img_flip_hor)\n",
    "\n",
    "cv2.waitKey(0)\n",
    "cv2.destroyAllWindows()"
   ]
  },
  {
   "cell_type": "markdown",
   "metadata": {},
   "source": [
    "## Vertical"
   ]
  },
  {
   "cell_type": "code",
   "execution_count": 3,
   "metadata": {},
   "outputs": [],
   "source": [
    "def flip_ver(src_img):\n",
    "    h, w, c = src_img.shape\n",
    "    dst_img = copy(src_img)\n",
    "    matrix_flip = np.array([\n",
    "        [-1, 0, h-1],\n",
    "        [0, 1, 0]\n",
    "    ])\n",
    "    \n",
    "    for i in range(h):\n",
    "        for j in range(w):\n",
    "            src_pos = np.array([i, j, 1])\n",
    "            x, y = np.dot(matrix_flip, src_pos)\n",
    "            dst_img[i][j] = src_img[x][y]\n",
    "    \n",
    "    return dst_img"
   ]
  },
  {
   "cell_type": "code",
   "execution_count": 6,
   "metadata": {},
   "outputs": [],
   "source": [
    "cv2.imshow(\"Image\", img)\n",
    "\n",
    "img_flip_ver = flip_ver(img)\n",
    "cv2.imshow(\"Flip Vertical Image\", img_flip_ver)\n",
    "\n",
    "img_rotate = rotation(img_flip_ver, angel=180)\n",
    "cv2.imshow(\"Image Rotation 180\", img_rotate)\n",
    "\n",
    "cv2.waitKey(0)\n",
    "cv2.destroyAllWindows()"
   ]
  }
 ],
 "metadata": {
  "kernelspec": {
   "display_name": "py36",
   "language": "python",
   "name": "py36"
  },
  "language_info": {
   "codemirror_mode": {
    "name": "ipython",
    "version": 3
   },
   "file_extension": ".py",
   "mimetype": "text/x-python",
   "name": "python",
   "nbconvert_exporter": "python",
   "pygments_lexer": "ipython3",
   "version": "3.6.7"
  },
  "toc": {
   "base_numbering": 1,
   "nav_menu": {},
   "number_sections": true,
   "sideBar": true,
   "skip_h1_title": false,
   "title_cell": "Table of Contents",
   "title_sidebar": "Contents",
   "toc_cell": false,
   "toc_position": {
    "height": "calc(100% - 180px)",
    "left": "10px",
    "top": "150px",
    "width": "272.797px"
   },
   "toc_section_display": true,
   "toc_window_display": true
  }
 },
 "nbformat": 4,
 "nbformat_minor": 2
}
